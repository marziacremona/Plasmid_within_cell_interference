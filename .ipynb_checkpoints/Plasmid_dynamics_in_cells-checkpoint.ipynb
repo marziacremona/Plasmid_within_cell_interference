{
 "cells": [
  {
   "cell_type": "code",
   "execution_count": 1,
   "metadata": {
    "collapsed": true
   },
   "outputs": [],
   "source": [
    "%load_ext rpy2.ipython "
   ]
  },
  {
   "cell_type": "code",
   "execution_count": 2,
   "metadata": {
    "collapsed": true
   },
   "outputs": [],
   "source": [
    "%%R \n",
    "w_max=5 # max wild-type plasmids\n",
    "m_max=10 # max mutant plasmids\n",
    "\n",
    "nt_init=matrix(0,nrow=w_max+1,ncol=m_max+1)\n",
    "w_init=5\n",
    "m_init=0\n",
    "nt_init[w_init+1,m_init+1]=3.12e9\n",
    "rownames(nt_init)=paste0('w',0:w_max)\n",
    "colnames(nt_init)=paste0('m',0:m_max)"
   ]
  },
  {
   "cell_type": "code",
   "execution_count": 3,
   "metadata": {
    "collapsed": true
   },
   "outputs": [],
   "source": [
    "%%R \n",
    "cell_division_old <- function(nt){\n",
    "  nt_div=matrix(0,nrow=w_max+1,ncol=m_max+1)\n",
    "  rownames(nt_div)=paste0('w',0:w_max)\n",
    "  colnames(nt_div)=paste0('m',0:m_max)\n",
    "  for(a in 0:w_max){ # loop over the entire population\n",
    "    for(b in 0:m_max){ \n",
    "      if((a+b)>=1){ # require a+b>0\n",
    "        \n",
    "        for(jpk in 0:(a+b)){ # loop over the total number of plasmids in first cell\n",
    "          p_jpk=dbinom(jpk,a+b,0.5) # binomial distribution\n",
    "          \n",
    "          for(j in max(0,jpk-b):min(a,jpk)){\n",
    "            new=p_jpk*dhyper(j,a,b,jpk)*nt[a+1,b+1]\n",
    "            nt_div[j+1,jpk-j+1]=nt_div[j+1,jpk-j+1]+new # cell 1\n",
    "            nt_div[a-j+1,b-(jpk-j)+1]=nt_div[a-j+1,b-(jpk-j)+1]+new # cell 2\n",
    "          }\n",
    "        }\n",
    "      }\n",
    "    }\n",
    "  }\n",
    "  return (nt_div)\n",
    "}\n",
    "\n",
    "cell_division <- function(nt){\n",
    "  nt_div=nt*0\n",
    "  for(a in 0:w_max){ # loop over the entire population\n",
    "    for(b in 0:m_max){ \n",
    "      \n",
    "      p_nt=dbinom(0:(a+b),a+b,0.5)*nt[a+1,b+1] # binomial distribution * number of cells\n",
    "      for(jpk in 0:(a+b)){ # loop over the total number of plasmids in first cell\n",
    "        j_all=max(0,jpk-b):min(a,jpk) # number of wild-type plasmids in first cell\n",
    "        new_all=p_nt[jpk+1]*dhyper(j_all,a,b,jpk) # number of cells\n",
    "        # row=j_all+1\n",
    "        # column=jpk-j_all+1\n",
    "        # element=(column-1)*(w_max+1)+(row)\n",
    "        nt_div[(jpk-j_all)*(w_max+1)+j_all+1]=nt_div[(jpk-j_all)*(w_max+1)+j_all+1]+new_all # cell 1\n",
    "        # row=a-j_all+1\n",
    "        # column=b-(jpk-j_all)+1\n",
    "        # element=(column-1)*(w_max+1)+(row)\n",
    "        nt_div[(b-jpk+j_all)*(w_max+1)+a-j_all+1]=nt_div[(b-jpk+j_all)*(w_max+1)+a-j_all+1]+new_all # cell 1\n",
    "      }\n",
    "    }\n",
    "  }\n",
    "  return (nt_div)\n",
    "}\n"
   ]
  },
  {
   "cell_type": "code",
   "execution_count": 4,
   "metadata": {
    "collapsed": true
   },
   "outputs": [],
   "source": [
    "%%R \n",
    "#u=0.01 # wt -> mutant rate\n",
    "#r=2 # wt plasmid growth rate\n",
    "#R=3 # mutant plasmid growth rate \n",
    "\n",
    "plasmid_replication_mutation_old <- function(nt_div,u,r,R){\n",
    "    nt_growth=matrix(0,nrow=w_max+1,ncol=m_max+1)\n",
    "    rownames(nt_growth)=paste0('w',0:w_max)\n",
    "    colnames(nt_growth)=paste0('m',0:m_max)\n",
    "    \n",
    "    for(a in 0:w_max){ # loop over the entire population\n",
    "      for(b in 0:m_max){ \n",
    "        a_plus1=floor(a*r)\n",
    "        b_plus1=floor(b*R)\n",
    "        \n",
    "        new_wt=a_plus1-a\n",
    "        w_to_m=0:new_wt\n",
    "          \n",
    "        a_plus2=a_plus1-w_to_m\n",
    "        b_plus2=b_plus1+w_to_m\n",
    "    \n",
    "        a_plus2=ifelse (a_plus2<=w_max,a_plus2,w_max)\n",
    "        b_plus2=ifelse (b_plus2<=m_max,b_plus2,m_max) # if too many mutant plasmids, set them to m_max, of which the cell \n",
    "                                                      # num will be after being multiplied by S(m). \n",
    "        for (i in 0:new_wt) {\n",
    "          nt_growth[a_plus2[i+1]+1,b_plus2[i+1]+1]=\n",
    "              nt_growth[a_plus2[i+1]+1,b_plus2[i+1]+1] +\n",
    "              nt_div[a+1,b+1]*dbinom(i,new_wt,u)\n",
    "        }\n",
    "      }       \n",
    "    }\n",
    "    return (nt_growth)   \n",
    "}\n",
    "\n",
    "plasmid_replication_mutation <- function(nt_div,u,r,R){\n",
    "  nt_growth=nt_div*0\n",
    "  \n",
    "  for(a in 0:w_max){ # loop over the entire population\n",
    "    a_plus1=floor(a*r)\n",
    "    new_wt=a_plus1-a\n",
    "    w_to_m=0:new_wt\n",
    "    a_plus2=a_plus1-w_to_m\n",
    "    a_plus2=ifelse(a_plus2<=w_max,a_plus2,w_max) ##### this is not in the model\n",
    "    \n",
    "    p_w_to_m=dbinom(w_to_m,new_wt,u)\n",
    "    \n",
    "    for(b in 0:m_max){ \n",
    "      b_plus1=floor(b*R)\n",
    "      b_plus2=b_plus1+w_to_m\n",
    "      b_plus2=ifelse(b_plus2<=m_max,b_plus2,m_max) # if too many mutant plasmids, set them to m_max, of which the cell \n",
    "                                                   # num will be after being multiplied by S(m). \n",
    "      new=nt_div[a+1,b+1]*p_w_to_m\n",
    "      for (i in w_to_m+1){\n",
    "          nt_growth[a_plus2[i]+1,b_plus2[i]+1]=nt_growth[a_plus2[i]+1,b_plus2[i]+1]+new[i]\n",
    "      }\n",
    "      \n",
    "    }       \n",
    "  }\n",
    "  return (nt_growth)   \n",
    "}"
   ]
  },
  {
   "cell_type": "code",
   "execution_count": 12,
   "metadata": {
    "collapsed": true
   },
   "outputs": [],
   "source": [
    "%%R \n",
    "#S=0.8\n",
    "#m_optimal=12 # NOTE: need m_optimal<=m_max (since m_max+1=m_lethal)\n",
    "\n",
    "cell_selection_old <-function(nt_growth, S, m_optimal, m_lethal){\n",
    "    nt_selection=matrix(0,nrow=w_max+1,ncol=m_max+1)\n",
    "    rownames(nt_selection)=paste0('w',0:w_max)\n",
    "    colnames(nt_selection)=paste0('m',0:m_max)\n",
    "    \n",
    "    for(a in 0:w_max){ # loop over the entire population\n",
    "      for(b in 0:m_max){\n",
    "          if (b==0){\n",
    "              nt_selection[a+1,b+1]=nt_growth[a+1,b+1]*S\n",
    "          } else if (0<b & b<=m_optimal){\n",
    "              nt_selection[a+1,b+1]=nt_growth[a+1,b+1]*(S+(1-S)*b/m_optimal)\n",
    "          } else if (m_optimal<b & b<=m_lethal){\n",
    "              nt_selection[a+1,b+1]=nt_growth[a+1,b+1]*((m_lethal-b)/(m_lethal-m_optimal))\n",
    "          }\n",
    "          if (b+a==0 | b>m_lethal){\n",
    "              nt_selection[a+1,b+1] = 0\n",
    "          }\n",
    "      }\n",
    "    }\n",
    "    return (nt_selection)\n",
    "}\n",
    "\n",
    "cell_selection <-function(nt_growth, S, m_optimal, m_lethal){\n",
    "  nt_selection=nt_growth*0\n",
    "  \n",
    "  nt_selection[,1]=nt_growth[,1]*S # b=0\n",
    "  nt_selection[1,1]=0 # a+b=0\n",
    "  nt_selection[,(m_lethal+1):m_max+1]=0  # b>m_lethal\n",
    "  nt_selection[,1:m_optimal+1]=t(t(nt_growth[,1:m_optimal+1])*(S+(1-S)*(1:m_optimal)/m_optimal))\n",
    "  if(m_optimal<m_lethal)\n",
    "    nt_selection[,(m_optimal+1):m_lethal+1]=t(t(nt_growth[,(m_optimal+1):m_lethal+1])*((m_lethal-(m_optimal+1):m_lethal)/(m_lethal-m_optimal)))\n",
    "  \n",
    "  return (nt_selection)\n",
    "}\n"
   ]
  },
  {
   "cell_type": "code",
   "execution_count": 40,
   "metadata": {
    "collapsed": true
   },
   "outputs": [],
   "source": [
    "%%R \n",
    "fcell_2_fplasmid_old <- function(nt_selection){\n",
    "    wt_plasmid=0\n",
    "    mutant_plasmid=0\n",
    "    \n",
    "    for(a in 0:w_max){ # loop over the entire population\n",
    "      for(b in 0:m_max){\n",
    "        wt_plasmid=wt_plasmid+nt_selection[a+1,b+1]*a\n",
    "        mutant_plasmid=mutant_plasmid+nt_selection[a+1,b+1]*b\n",
    "      }\n",
    "    }\n",
    "    \n",
    "    return (mutant_plasmid/(wt_plasmid+mutant_plasmid))    \n",
    "}\n",
    "\n",
    "fcell_2_fplasmid <- function(nt_selection){\n",
    "  \n",
    "  wt_plasmid=sum(nt_selection*(0:w_max))\n",
    "  mutant_plasmid=sum(t(nt_selection)*(0:m_max))\n",
    "  \n",
    "  return (mutant_plasmid/(wt_plasmid+mutant_plasmid))    \n",
    "}"
   ]
  },
  {
   "cell_type": "code",
   "execution_count": 50,
   "metadata": {
    "collapsed": true
   },
   "outputs": [],
   "source": [
    "%%R \n",
    "generation=318\n",
    "mutant_plasmid_freq=rep(-1,generation)\n",
    "nt=nt_init\n",
    "\n",
    "emperical_data=read.delim(\"F3_data1.tab\", header=TRUE)\n",
    "emperical_generations=emperical_data$generations\n",
    "\n",
    "loss_old<-function(theta){\n",
    "  u=theta[1]\n",
    "  r=theta[2]\n",
    "  R=theta[3]\n",
    "  S=theta[4]\n",
    "  m_optimal=round(theta[5]) # m_optimal needs to be integer!\n",
    "  m_lethal=round(theta[6])  # m_lethal needs to be integer!\n",
    "    \n",
    "  if(u<0 | u>1 | r<1 | R<1 | r>=R | S<0 | S>1 | m_optimal<=0 | m_optimal>m_max | m_lethal<=m_optimal | m_lethal>m_max) {\n",
    "    return (100000000)\n",
    "  }\n",
    "  \n",
    "  for (i in 1:generation){\n",
    "    nt_div=cell_division_old(nt)\n",
    "    nt_growth=plasmid_replication_mutation_old(nt_div,u,r,R)\n",
    "    nt_selection=cell_selection_old(nt_growth, S, m_optimal, m_lethal)\n",
    "    mutant_plasmid_freq[i]=fcell_2_fplasmid_old(nt_selection)\n",
    "    nt=nt_selection\n",
    "  } \n",
    "  \n",
    "  diff=mutant_plasmid_freq[emperical_generations]-emperical_data$frequency\n",
    "  return (sum(diff^2))\n",
    "  \n",
    "} \n",
    "\n",
    "loss<-function(theta){\n",
    "    u=theta[1]\n",
    "    r=theta[2]\n",
    "    R=theta[3]\n",
    "    S=theta[4]\n",
    "    m_optimal=round(theta[5]) # m_optimal needs to be integer!\n",
    "    m_lethal=round(theta[6])  # m_lethal needs to be integer!\n",
    "    \n",
    "    if(u<=0 | u>=1 | r<1 | R<1 | r>=R | S<0 | S>1 | m_optimal<=0 | m_optimal>m_max | m_lethal<=m_optimal | m_lethal>m_max) {\n",
    "        return(+Inf)\n",
    "    }\n",
    "    \n",
    "    for (i in 1:generation){\n",
    "        nt_div=cell_division(nt)\n",
    "        nt_growth=plasmid_replication_mutation(nt_div,u,r,R)\n",
    "        nt_selection=cell_selection(nt_growth, S, m_optimal, m_lethal)\n",
    "        mutant_plasmid_freq[i]=fcell_2_fplasmid(nt_selection)\n",
    "        nt=nt_selection\n",
    "    } \n",
    "\n",
    "    diff=mutant_plasmid_freq[emperical_generations]-emperical_data$frequency\n",
    "    return (sum(diff^2))\n",
    "    \n",
    "}"
   ]
  },
  {
   "cell_type": "code",
   "execution_count": 51,
   "metadata": {},
   "outputs": [
    {
     "data": {
      "text/plain": [
       "[1] 7.377205\n",
       "[1] 7.377205\n"
      ]
     },
     "metadata": {},
     "output_type": "display_data"
    }
   ],
   "source": [
    "%%R \n",
    "theta0=c(0.00001, 1.2, 1.8, 0.8, 6, 8)\n",
    "print (loss_old(theta0))\n",
    "print (loss(theta0))"
   ]
  },
  {
   "cell_type": "code",
   "execution_count": 43,
   "metadata": {},
   "outputs": [
    {
     "data": {
      "text/plain": [
       "$par\n",
       "[1] 0.00001 2.00000 1.80000 0.80000 6.00000 8.00000\n",
       "\n",
       "$value\n",
       "[1] 0.0009728495\n",
       "\n",
       "$counts\n",
       "function gradient \n",
       "     535       NA \n",
       "\n",
       "$convergence\n",
       "[1] 0\n",
       "\n",
       "$message\n",
       "NULL\n",
       "\n",
       "    user   system  elapsed \n",
       "2719.609   11.988 3467.500 \n"
      ]
     },
     "metadata": {},
     "output_type": "display_data"
    }
   ],
   "source": [
    "%%R \n",
    "# old code\n",
    "ptm=proc.time()\n",
    "res_old=optim(theta0,loss_old,control=c(maxit=1e6))\n",
    "print(res_old)\n",
    "proc.time()-ptm"
   ]
  },
  {
   "cell_type": "code",
   "execution_count": 44,
   "metadata": {
    "collapsed": true
   },
   "outputs": [
    {
     "name": "stderr",
     "output_type": "stream",
     "text": [
      "/Users/han/anaconda2/envs/ml/lib/python2.7/site-packages/rpy2/rinterface/__init__.py:186: RRuntimeWarning: Error in cell_division(nt) : Interrupted\n",
      "\n",
      "  warnings.warn(x, RRuntimeWarning)\n"
     ]
    },
    {
     "ename": "KeyboardInterrupt",
     "evalue": "",
     "output_type": "error",
     "traceback": [
      "\u001b[0;31m---------------------------------------------------------------------------\u001b[0m",
      "\u001b[0;31mKeyboardInterrupt\u001b[0m                         Traceback (most recent call last)",
      "\u001b[0;32m<ipython-input-44-ca9906e6ef5b>\u001b[0m in \u001b[0;36m<module>\u001b[0;34m()\u001b[0m\n\u001b[0;32m----> 1\u001b[0;31m \u001b[0mget_ipython\u001b[0m\u001b[0;34m(\u001b[0m\u001b[0;34m)\u001b[0m\u001b[0;34m.\u001b[0m\u001b[0mrun_cell_magic\u001b[0m\u001b[0;34m(\u001b[0m\u001b[0;34mu'R'\u001b[0m\u001b[0;34m,\u001b[0m \u001b[0;34mu''\u001b[0m\u001b[0;34m,\u001b[0m \u001b[0;34mu'# new code\\nptm=proc.time()\\nres=optim(theta0,loss,control=c(maxit=1e6))\\nprint(res)\\nprint(proc.time()-ptm)\\n\\n#identical(res_old,res)'\u001b[0m\u001b[0;34m)\u001b[0m\u001b[0;34m\u001b[0m\u001b[0m\n\u001b[0m",
      "\u001b[0;32m/Users/han/anaconda2/envs/ml/lib/python2.7/site-packages/IPython/core/interactiveshell.pyc\u001b[0m in \u001b[0;36mrun_cell_magic\u001b[0;34m(self, magic_name, line, cell)\u001b[0m\n\u001b[1;32m   2113\u001b[0m             \u001b[0mmagic_arg_s\u001b[0m \u001b[0;34m=\u001b[0m \u001b[0mself\u001b[0m\u001b[0;34m.\u001b[0m\u001b[0mvar_expand\u001b[0m\u001b[0;34m(\u001b[0m\u001b[0mline\u001b[0m\u001b[0;34m,\u001b[0m \u001b[0mstack_depth\u001b[0m\u001b[0;34m)\u001b[0m\u001b[0;34m\u001b[0m\u001b[0m\n\u001b[1;32m   2114\u001b[0m             \u001b[0;32mwith\u001b[0m \u001b[0mself\u001b[0m\u001b[0;34m.\u001b[0m\u001b[0mbuiltin_trap\u001b[0m\u001b[0;34m:\u001b[0m\u001b[0;34m\u001b[0m\u001b[0m\n\u001b[0;32m-> 2115\u001b[0;31m                 \u001b[0mresult\u001b[0m \u001b[0;34m=\u001b[0m \u001b[0mfn\u001b[0m\u001b[0;34m(\u001b[0m\u001b[0mmagic_arg_s\u001b[0m\u001b[0;34m,\u001b[0m \u001b[0mcell\u001b[0m\u001b[0;34m)\u001b[0m\u001b[0;34m\u001b[0m\u001b[0m\n\u001b[0m\u001b[1;32m   2116\u001b[0m             \u001b[0;32mreturn\u001b[0m \u001b[0mresult\u001b[0m\u001b[0;34m\u001b[0m\u001b[0m\n\u001b[1;32m   2117\u001b[0m \u001b[0;34m\u001b[0m\u001b[0m\n",
      "\u001b[0;32m<decorator-gen-126>\u001b[0m in \u001b[0;36mR\u001b[0;34m(self, line, cell, local_ns)\u001b[0m\n",
      "\u001b[0;32m/Users/han/anaconda2/envs/ml/lib/python2.7/site-packages/IPython/core/magic.pyc\u001b[0m in \u001b[0;36m<lambda>\u001b[0;34m(f, *a, **k)\u001b[0m\n\u001b[1;32m    186\u001b[0m     \u001b[0;31m# but it's overkill for just that one bit of state.\u001b[0m\u001b[0;34m\u001b[0m\u001b[0;34m\u001b[0m\u001b[0m\n\u001b[1;32m    187\u001b[0m     \u001b[0;32mdef\u001b[0m \u001b[0mmagic_deco\u001b[0m\u001b[0;34m(\u001b[0m\u001b[0marg\u001b[0m\u001b[0;34m)\u001b[0m\u001b[0;34m:\u001b[0m\u001b[0;34m\u001b[0m\u001b[0m\n\u001b[0;32m--> 188\u001b[0;31m         \u001b[0mcall\u001b[0m \u001b[0;34m=\u001b[0m \u001b[0;32mlambda\u001b[0m \u001b[0mf\u001b[0m\u001b[0;34m,\u001b[0m \u001b[0;34m*\u001b[0m\u001b[0ma\u001b[0m\u001b[0;34m,\u001b[0m \u001b[0;34m**\u001b[0m\u001b[0mk\u001b[0m\u001b[0;34m:\u001b[0m \u001b[0mf\u001b[0m\u001b[0;34m(\u001b[0m\u001b[0;34m*\u001b[0m\u001b[0ma\u001b[0m\u001b[0;34m,\u001b[0m \u001b[0;34m**\u001b[0m\u001b[0mk\u001b[0m\u001b[0;34m)\u001b[0m\u001b[0;34m\u001b[0m\u001b[0m\n\u001b[0m\u001b[1;32m    189\u001b[0m \u001b[0;34m\u001b[0m\u001b[0m\n\u001b[1;32m    190\u001b[0m         \u001b[0;32mif\u001b[0m \u001b[0mcallable\u001b[0m\u001b[0;34m(\u001b[0m\u001b[0marg\u001b[0m\u001b[0;34m)\u001b[0m\u001b[0;34m:\u001b[0m\u001b[0;34m\u001b[0m\u001b[0m\n",
      "\u001b[0;32m/Users/han/anaconda2/envs/ml/lib/python2.7/site-packages/rpy2/ipython/rmagic.pyc\u001b[0m in \u001b[0;36mR\u001b[0;34m(self, line, cell, local_ns)\u001b[0m\n\u001b[1;32m    675\u001b[0m                     \u001b[0mreturn_output\u001b[0m \u001b[0;34m=\u001b[0m \u001b[0mFalse\u001b[0m\u001b[0;34m\u001b[0m\u001b[0m\n\u001b[1;32m    676\u001b[0m             \u001b[0;32melse\u001b[0m\u001b[0;34m:\u001b[0m\u001b[0;34m\u001b[0m\u001b[0m\n\u001b[0;32m--> 677\u001b[0;31m                 \u001b[0mtext_result\u001b[0m\u001b[0;34m,\u001b[0m \u001b[0mresult\u001b[0m\u001b[0;34m,\u001b[0m \u001b[0mvisible\u001b[0m \u001b[0;34m=\u001b[0m \u001b[0mself\u001b[0m\u001b[0;34m.\u001b[0m\u001b[0meval\u001b[0m\u001b[0;34m(\u001b[0m\u001b[0mcode\u001b[0m\u001b[0;34m)\u001b[0m\u001b[0;34m\u001b[0m\u001b[0m\n\u001b[0m\u001b[1;32m    678\u001b[0m                 \u001b[0mtext_output\u001b[0m \u001b[0;34m+=\u001b[0m \u001b[0mtext_result\u001b[0m\u001b[0;34m\u001b[0m\u001b[0m\n\u001b[1;32m    679\u001b[0m                 \u001b[0;32mif\u001b[0m \u001b[0mvisible\u001b[0m\u001b[0;34m:\u001b[0m\u001b[0;34m\u001b[0m\u001b[0m\n",
      "\u001b[0;32m/Users/han/anaconda2/envs/ml/lib/python2.7/site-packages/rpy2/ipython/rmagic.pyc\u001b[0m in \u001b[0;36meval\u001b[0;34m(self, code)\u001b[0m\n\u001b[1;32m    240\u001b[0m         \u001b[0;32mtry\u001b[0m\u001b[0;34m:\u001b[0m\u001b[0;34m\u001b[0m\u001b[0m\n\u001b[1;32m    241\u001b[0m             \u001b[0;31m# Need the newline in case the last line in code is a comment\u001b[0m\u001b[0;34m\u001b[0m\u001b[0;34m\u001b[0m\u001b[0m\n\u001b[0;32m--> 242\u001b[0;31m             \u001b[0mvalue\u001b[0m\u001b[0;34m,\u001b[0m \u001b[0mvisible\u001b[0m \u001b[0;34m=\u001b[0m \u001b[0mro\u001b[0m\u001b[0;34m.\u001b[0m\u001b[0mr\u001b[0m\u001b[0;34m(\u001b[0m\u001b[0;34m\"withVisible({%s\\n})\"\u001b[0m \u001b[0;34m%\u001b[0m \u001b[0mcode\u001b[0m\u001b[0;34m)\u001b[0m\u001b[0;34m\u001b[0m\u001b[0m\n\u001b[0m\u001b[1;32m    243\u001b[0m         \u001b[0;32mexcept\u001b[0m \u001b[0;34m(\u001b[0m\u001b[0mri\u001b[0m\u001b[0;34m.\u001b[0m\u001b[0mRRuntimeError\u001b[0m\u001b[0;34m,\u001b[0m \u001b[0mValueError\u001b[0m\u001b[0;34m)\u001b[0m \u001b[0;32mas\u001b[0m \u001b[0mexception\u001b[0m\u001b[0;34m:\u001b[0m\u001b[0;34m\u001b[0m\u001b[0m\n\u001b[1;32m    244\u001b[0m             \u001b[0mwarning_or_other_msg\u001b[0m \u001b[0;34m=\u001b[0m \u001b[0mself\u001b[0m\u001b[0;34m.\u001b[0m\u001b[0mflush\u001b[0m\u001b[0;34m(\u001b[0m\u001b[0;34m)\u001b[0m \u001b[0;31m# otherwise next return seems to have copy of error\u001b[0m\u001b[0;34m\u001b[0m\u001b[0m\n",
      "\u001b[0;32m/Users/han/anaconda2/envs/ml/lib/python2.7/site-packages/rpy2/robjects/__init__.pyc\u001b[0m in \u001b[0;36m__call__\u001b[0;34m(self, string)\u001b[0m\n\u001b[1;32m    361\u001b[0m     \u001b[0;32mdef\u001b[0m \u001b[0m__call__\u001b[0m\u001b[0;34m(\u001b[0m\u001b[0mself\u001b[0m\u001b[0;34m,\u001b[0m \u001b[0mstring\u001b[0m\u001b[0;34m)\u001b[0m\u001b[0;34m:\u001b[0m\u001b[0;34m\u001b[0m\u001b[0m\n\u001b[1;32m    362\u001b[0m         \u001b[0mp\u001b[0m \u001b[0;34m=\u001b[0m \u001b[0m_rparse\u001b[0m\u001b[0;34m(\u001b[0m\u001b[0mtext\u001b[0m\u001b[0;34m=\u001b[0m\u001b[0mStrSexpVector\u001b[0m\u001b[0;34m(\u001b[0m\u001b[0;34m(\u001b[0m\u001b[0mstring\u001b[0m\u001b[0;34m,\u001b[0m\u001b[0;34m)\u001b[0m\u001b[0;34m)\u001b[0m\u001b[0;34m)\u001b[0m\u001b[0;34m\u001b[0m\u001b[0m\n\u001b[0;32m--> 363\u001b[0;31m         \u001b[0mres\u001b[0m \u001b[0;34m=\u001b[0m \u001b[0mself\u001b[0m\u001b[0;34m.\u001b[0m\u001b[0meval\u001b[0m\u001b[0;34m(\u001b[0m\u001b[0mp\u001b[0m\u001b[0;34m)\u001b[0m\u001b[0;34m\u001b[0m\u001b[0m\n\u001b[0m\u001b[1;32m    364\u001b[0m         \u001b[0;32mreturn\u001b[0m \u001b[0mconversion\u001b[0m\u001b[0;34m.\u001b[0m\u001b[0mri2py\u001b[0m\u001b[0;34m(\u001b[0m\u001b[0mres\u001b[0m\u001b[0;34m)\u001b[0m\u001b[0;34m\u001b[0m\u001b[0m\n\u001b[1;32m    365\u001b[0m \u001b[0;34m\u001b[0m\u001b[0m\n",
      "\u001b[0;32m/Users/han/anaconda2/envs/ml/lib/python2.7/site-packages/rpy2/robjects/functions.pyc\u001b[0m in \u001b[0;36m__call__\u001b[0;34m(self, *args, **kwargs)\u001b[0m\n\u001b[1;32m    176\u001b[0m                 \u001b[0mv\u001b[0m \u001b[0;34m=\u001b[0m \u001b[0mkwargs\u001b[0m\u001b[0;34m.\u001b[0m\u001b[0mpop\u001b[0m\u001b[0;34m(\u001b[0m\u001b[0mk\u001b[0m\u001b[0;34m)\u001b[0m\u001b[0;34m\u001b[0m\u001b[0m\n\u001b[1;32m    177\u001b[0m                 \u001b[0mkwargs\u001b[0m\u001b[0;34m[\u001b[0m\u001b[0mr_k\u001b[0m\u001b[0;34m]\u001b[0m \u001b[0;34m=\u001b[0m \u001b[0mv\u001b[0m\u001b[0;34m\u001b[0m\u001b[0m\n\u001b[0;32m--> 178\u001b[0;31m         \u001b[0;32mreturn\u001b[0m \u001b[0msuper\u001b[0m\u001b[0;34m(\u001b[0m\u001b[0mSignatureTranslatedFunction\u001b[0m\u001b[0;34m,\u001b[0m \u001b[0mself\u001b[0m\u001b[0;34m)\u001b[0m\u001b[0;34m.\u001b[0m\u001b[0m__call__\u001b[0m\u001b[0;34m(\u001b[0m\u001b[0;34m*\u001b[0m\u001b[0margs\u001b[0m\u001b[0;34m,\u001b[0m \u001b[0;34m**\u001b[0m\u001b[0mkwargs\u001b[0m\u001b[0;34m)\u001b[0m\u001b[0;34m\u001b[0m\u001b[0m\n\u001b[0m\u001b[1;32m    179\u001b[0m \u001b[0;34m\u001b[0m\u001b[0m\n\u001b[1;32m    180\u001b[0m \u001b[0mpattern_link\u001b[0m \u001b[0;34m=\u001b[0m \u001b[0mre\u001b[0m\u001b[0;34m.\u001b[0m\u001b[0mcompile\u001b[0m\u001b[0;34m(\u001b[0m\u001b[0;34mr'\\\\link\\{(.+?)\\}'\u001b[0m\u001b[0;34m)\u001b[0m\u001b[0;34m\u001b[0m\u001b[0m\n",
      "\u001b[0;32m/Users/han/anaconda2/envs/ml/lib/python2.7/site-packages/rpy2/robjects/functions.pyc\u001b[0m in \u001b[0;36m__call__\u001b[0;34m(self, *args, **kwargs)\u001b[0m\n\u001b[1;32m    104\u001b[0m         \u001b[0;32mfor\u001b[0m \u001b[0mk\u001b[0m\u001b[0;34m,\u001b[0m \u001b[0mv\u001b[0m \u001b[0;32min\u001b[0m \u001b[0mkwargs\u001b[0m\u001b[0;34m.\u001b[0m\u001b[0mitems\u001b[0m\u001b[0;34m(\u001b[0m\u001b[0;34m)\u001b[0m\u001b[0;34m:\u001b[0m\u001b[0;34m\u001b[0m\u001b[0m\n\u001b[1;32m    105\u001b[0m             \u001b[0mnew_kwargs\u001b[0m\u001b[0;34m[\u001b[0m\u001b[0mk\u001b[0m\u001b[0;34m]\u001b[0m \u001b[0;34m=\u001b[0m \u001b[0mconversion\u001b[0m\u001b[0;34m.\u001b[0m\u001b[0mpy2ri\u001b[0m\u001b[0;34m(\u001b[0m\u001b[0mv\u001b[0m\u001b[0;34m)\u001b[0m\u001b[0;34m\u001b[0m\u001b[0m\n\u001b[0;32m--> 106\u001b[0;31m         \u001b[0mres\u001b[0m \u001b[0;34m=\u001b[0m \u001b[0msuper\u001b[0m\u001b[0;34m(\u001b[0m\u001b[0mFunction\u001b[0m\u001b[0;34m,\u001b[0m \u001b[0mself\u001b[0m\u001b[0;34m)\u001b[0m\u001b[0;34m.\u001b[0m\u001b[0m__call__\u001b[0m\u001b[0;34m(\u001b[0m\u001b[0;34m*\u001b[0m\u001b[0mnew_args\u001b[0m\u001b[0;34m,\u001b[0m \u001b[0;34m**\u001b[0m\u001b[0mnew_kwargs\u001b[0m\u001b[0;34m)\u001b[0m\u001b[0;34m\u001b[0m\u001b[0m\n\u001b[0m\u001b[1;32m    107\u001b[0m         \u001b[0mres\u001b[0m \u001b[0;34m=\u001b[0m \u001b[0mconversion\u001b[0m\u001b[0;34m.\u001b[0m\u001b[0mri2ro\u001b[0m\u001b[0;34m(\u001b[0m\u001b[0mres\u001b[0m\u001b[0;34m)\u001b[0m\u001b[0;34m\u001b[0m\u001b[0m\n\u001b[1;32m    108\u001b[0m         \u001b[0;32mreturn\u001b[0m \u001b[0mres\u001b[0m\u001b[0;34m\u001b[0m\u001b[0m\n",
      "\u001b[0;31mKeyboardInterrupt\u001b[0m: "
     ]
    }
   ],
   "source": [
    "%%R\n",
    "# new code\n",
    "ptm=proc.time()\n",
    "res=optim(theta0,loss,control=c(maxit=1e6))\n",
    "print(res)\n",
    "print(proc.time()-ptm)\n",
    "\n",
    "identical(res_old,res)"
   ]
  },
  {
   "cell_type": "markdown",
   "metadata": {},
   "source": [
    "Plot the trajectory using the optimized parameters. "
   ]
  },
  {
   "cell_type": "code",
   "execution_count": 49,
   "metadata": {
    "scrolled": false
   },
   "outputs": [
    {
     "data": {
      "text/plain": [
       "  [1] 5.238050e-06 1.114613e-05 1.844627e-05 2.806212e-05 4.119122e-05\n",
       "  [6] 5.947355e-05 8.523297e-05 1.218318e-04 1.742441e-04 2.501203e-04\n",
       " [11] 3.621625e-04 5.344828e-04 8.220437e-04 1.374684e-03 2.655334e-03\n",
       " [16] 6.190436e-03 1.710210e-02 5.191167e-02 1.551162e-01 3.880841e-01\n",
       " [21] 6.894525e-01 8.865925e-01 9.650373e-01 9.898538e-01 9.971086e-01\n",
       " [26] 9.991795e-01 9.997668e-01 9.999334e-01 9.999807e-01 9.999943e-01\n",
       " [31] 9.999982e-01 9.999994e-01 9.999998e-01 9.999999e-01 1.000000e+00\n",
       " [36] 1.000000e+00 1.000000e+00 1.000000e+00 1.000000e+00 1.000000e+00\n",
       " [41] 1.000000e+00 1.000000e+00 1.000000e+00 1.000000e+00 1.000000e+00\n",
       " [46] 1.000000e+00 1.000000e+00 1.000000e+00 1.000000e+00 1.000000e+00\n",
       " [51] 1.000000e+00 1.000000e+00 1.000000e+00 1.000000e+00 1.000000e+00\n",
       " [56] 1.000000e+00 1.000000e+00 1.000000e+00 1.000000e+00 1.000000e+00\n",
       " [61] 1.000000e+00 1.000000e+00 1.000000e+00 1.000000e+00 1.000000e+00\n",
       " [66] 1.000000e+00 1.000000e+00 1.000000e+00 1.000000e+00 1.000000e+00\n",
       " [71] 1.000000e+00 1.000000e+00 1.000000e+00 1.000000e+00 1.000000e+00\n",
       " [76] 1.000000e+00 1.000000e+00 1.000000e+00 1.000000e+00 1.000000e+00\n",
       " [81] 1.000000e+00 1.000000e+00 1.000000e+00 1.000000e+00 1.000000e+00\n",
       " [86] 1.000000e+00 1.000000e+00 1.000000e+00 1.000000e+00 1.000000e+00\n",
       " [91] 1.000000e+00 1.000000e+00 1.000000e+00 1.000000e+00 1.000000e+00\n",
       " [96] 1.000000e+00 1.000000e+00 1.000000e+00 1.000000e+00 1.000000e+00\n",
       "[101] 1.000000e+00 1.000000e+00 1.000000e+00 1.000000e+00 1.000000e+00\n",
       "[106] 1.000000e+00 1.000000e+00 1.000000e+00 1.000000e+00 1.000000e+00\n",
       "[111] 1.000000e+00 1.000000e+00 1.000000e+00 1.000000e+00 1.000000e+00\n",
       "[116] 1.000000e+00 1.000000e+00 1.000000e+00 1.000000e+00 1.000000e+00\n",
       "[121] 1.000000e+00 1.000000e+00 1.000000e+00 1.000000e+00 1.000000e+00\n",
       "[126] 1.000000e+00 1.000000e+00 1.000000e+00 1.000000e+00 1.000000e+00\n",
       "[131] 1.000000e+00 1.000000e+00 1.000000e+00 1.000000e+00 1.000000e+00\n",
       "[136] 1.000000e+00 1.000000e+00 1.000000e+00 1.000000e+00 1.000000e+00\n",
       "[141] 1.000000e+00 1.000000e+00 1.000000e+00 1.000000e+00 1.000000e+00\n",
       "[146] 1.000000e+00 1.000000e+00 1.000000e+00 1.000000e+00 1.000000e+00\n",
       "[151] 1.000000e+00 1.000000e+00 1.000000e+00 1.000000e+00 1.000000e+00\n",
       "[156] 1.000000e+00 1.000000e+00 1.000000e+00 1.000000e+00 1.000000e+00\n",
       "[161] 1.000000e+00 1.000000e+00 1.000000e+00 1.000000e+00 1.000000e+00\n",
       "[166] 1.000000e+00 1.000000e+00 1.000000e+00 1.000000e+00 1.000000e+00\n",
       "[171] 1.000000e+00 1.000000e+00 1.000000e+00 1.000000e+00 1.000000e+00\n",
       "[176] 1.000000e+00 1.000000e+00 1.000000e+00 1.000000e+00 1.000000e+00\n",
       "[181] 1.000000e+00 1.000000e+00 1.000000e+00 1.000000e+00 1.000000e+00\n",
       "[186] 1.000000e+00 1.000000e+00 1.000000e+00 1.000000e+00 1.000000e+00\n",
       "[191] 1.000000e+00 1.000000e+00 1.000000e+00 1.000000e+00 1.000000e+00\n",
       "[196] 1.000000e+00 1.000000e+00 1.000000e+00 1.000000e+00 1.000000e+00\n",
       "[201] 1.000000e+00 1.000000e+00 1.000000e+00 1.000000e+00 1.000000e+00\n",
       "[206] 1.000000e+00 1.000000e+00 1.000000e+00 1.000000e+00 1.000000e+00\n",
       "[211] 1.000000e+00 1.000000e+00 1.000000e+00 1.000000e+00 1.000000e+00\n",
       "[216] 1.000000e+00 1.000000e+00 1.000000e+00 1.000000e+00 1.000000e+00\n",
       "[221] 1.000000e+00 1.000000e+00 1.000000e+00 1.000000e+00 1.000000e+00\n",
       "[226] 1.000000e+00 1.000000e+00 1.000000e+00 1.000000e+00 1.000000e+00\n",
       "[231] 1.000000e+00 1.000000e+00 1.000000e+00 1.000000e+00 1.000000e+00\n",
       "[236] 1.000000e+00 1.000000e+00 1.000000e+00 1.000000e+00 1.000000e+00\n",
       "[241] 1.000000e+00 1.000000e+00 1.000000e+00 1.000000e+00 1.000000e+00\n",
       "[246] 1.000000e+00 1.000000e+00 1.000000e+00 1.000000e+00 1.000000e+00\n",
       "[251] 1.000000e+00 1.000000e+00 1.000000e+00 1.000000e+00 1.000000e+00\n",
       "[256] 1.000000e+00 1.000000e+00 1.000000e+00 1.000000e+00 1.000000e+00\n",
       "[261] 1.000000e+00 1.000000e+00 1.000000e+00 1.000000e+00 1.000000e+00\n",
       "[266] 1.000000e+00 1.000000e+00 1.000000e+00 1.000000e+00 1.000000e+00\n",
       "[271] 1.000000e+00 1.000000e+00 1.000000e+00 1.000000e+00 1.000000e+00\n",
       "[276] 1.000000e+00 1.000000e+00 1.000000e+00 1.000000e+00 1.000000e+00\n",
       "[281] 1.000000e+00 1.000000e+00 1.000000e+00 1.000000e+00 1.000000e+00\n",
       "[286] 1.000000e+00 1.000000e+00 1.000000e+00 1.000000e+00 1.000000e+00\n",
       "[291] 1.000000e+00 1.000000e+00 1.000000e+00 1.000000e+00 1.000000e+00\n",
       "[296] 1.000000e+00 1.000000e+00 1.000000e+00 1.000000e+00 1.000000e+00\n",
       "[301] 1.000000e+00 1.000000e+00 1.000000e+00 1.000000e+00 1.000000e+00\n",
       "[306] 1.000000e+00 1.000000e+00 1.000000e+00 1.000000e+00 1.000000e+00\n",
       "[311] 1.000000e+00 1.000000e+00 1.000000e+00 1.000000e+00 1.000000e+00\n",
       "[316] 1.000000e+00 1.000000e+00 1.000000e+00\n"
      ]
     },
     "metadata": {},
     "output_type": "display_data"
    },
    {
     "data": {
      "image/png": "[encoded data removed]"
     },
     "metadata": {},
     "output_type": "display_data"
    }
   ],
   "source": [
    "%%R \n",
    "#theta_optimized=res$par\n",
    "theta_optimized=c(0.00001,1.60000,1.65000,0.20000,6.00000,8.00000)\n",
    "mutant_plasmid_freq=rep(-1,generation)\n",
    "trajectory = function (theta){\n",
    "    u=theta[1]\n",
    "    r=theta[2]\n",
    "    R=theta[3]\n",
    "    S=theta[4]\n",
    "    m_optimal=round(theta[5]) # m_optimal needs to be integer!\n",
    "    m_lethal=round(theta[6])  # m_lethal needs to be integer!\n",
    "        \n",
    "    for (i in 1:generation){\n",
    "        nt_div=cell_division(nt)\n",
    "        nt_growth=plasmid_replication_mutation(nt_div,u,r,R)\n",
    "        nt_selection=cell_selection(nt_growth, S, m_optimal, m_lethal)\n",
    "        mutant_plasmid_freq[i]=fcell_2_fplasmid(nt_selection)\n",
    "        nt=nt_selection     \n",
    "    } \n",
    "    plot (1:generation,mutant_plasmid_freq,type='l')\n",
    "    #print (mutant_plasmid_freq)\n",
    "}\n",
    "\n",
    "trajectory(theta_optimized)"
   ]
  },
  {
   "cell_type": "code",
   "execution_count": null,
   "metadata": {
    "collapsed": true
   },
   "outputs": [],
   "source": []
  }
 ],
 "metadata": {
  "kernelspec": {
   "display_name": "Python 2",
   "language": "python",
   "name": "python2"
  },
  "language_info": {
   "codemirror_mode": {
    "name": "ipython",
    "version": 2
   },
   "file_extension": ".py",
   "mimetype": "text/x-python",
   "name": "python",
   "nbconvert_exporter": "python",
   "pygments_lexer": "ipython2",
   "version": "2.7.14"
  }
 },
 "nbformat": 4,
 "nbformat_minor": 2
}
