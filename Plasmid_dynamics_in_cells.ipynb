{
 "cells": [
  {
   "cell_type": "code",
   "execution_count": 10,
   "metadata": {},
   "outputs": [
    {
     "name": "stdout",
     "output_type": "stream",
     "text": [
      "The rpy2.ipython extension is already loaded. To reload it, use:\n",
      "  %reload_ext rpy2.ipython\n"
     ]
    }
   ],
   "source": [
    "%load_ext rpy2.ipython "
   ]
  },
  {
   "cell_type": "code",
   "execution_count": 11,
   "metadata": {
    "collapsed": true
   },
   "outputs": [],
   "source": [
    "%%R \n",
    "w_max=5 # max wild-type plasmids\n",
    "m_max=5 # max mutant plasmids, equal to m_lethal-1\n",
    "\n",
    "nt_init=matrix(0,nrow=w_max+1,ncol=m_max+1)\n",
    "w_init=5\n",
    "m_init=0\n",
    "nt_init[w_init+1,m_init+1]=3.12e9\n",
    "rownames(nt_init)=paste0('w',0:w_max)\n",
    "colnames(nt_init)=paste0('m',0:m_max)"
   ]
  },
  {
   "cell_type": "code",
   "execution_count": 12,
   "metadata": {
    "collapsed": true
   },
   "outputs": [],
   "source": [
    "%%R \n",
    "cell_division_old <- function(nt){\n",
    "  nt_div=matrix(0,nrow=w_max+1,ncol=m_max+1)\n",
    "  rownames(nt_div)=paste0('w',0:w_max)\n",
    "  colnames(nt_div)=paste0('m',0:m_max)\n",
    "  for(a in 0:w_max){ # loop over the entire population\n",
    "    for(b in 0:m_max){ \n",
    "      if((a+b)>=1){ # require a+b>0\n",
    "        \n",
    "        for(jpk in 0:(a+b)){ # loop over the total number of plasmids in first cell\n",
    "          p_jpk=dbinom(jpk,a+b,0.5) # binomial distribution\n",
    "          \n",
    "          for(j in max(0,jpk-b):min(a,jpk)){\n",
    "            new=p_jpk*dhyper(j,a,b,jpk)*nt[a+1,b+1]\n",
    "            nt_div[j+1,jpk-j+1]=nt_div[j+1,jpk-j+1]+new # cell 1\n",
    "            nt_div[a-j+1,b-(jpk-j)+1]=nt_div[a-j+1,b-(jpk-j)+1]+new # cell 2\n",
    "          }\n",
    "        }\n",
    "      }\n",
    "    }\n",
    "  }\n",
    "  return (nt_div)\n",
    "}\n",
    "\n",
    "cell_division <- function(nt){\n",
    "  nt_div=nt*0\n",
    "  for(a in 0:w_max){ # loop over the entire population\n",
    "    for(b in 0:m_max){ \n",
    "      \n",
    "      p_nt=dbinom(0:(a+b),a+b,0.5)*nt[a+1,b+1] # binomial distribution * number of cells\n",
    "      for(jpk in 0:(a+b)){ # loop over the total number of plasmids in first cell\n",
    "        j_all=max(0,jpk-b):min(a,jpk) # number of wild-type plasmids in first cell\n",
    "        new_all=p_nt[jpk+1]*dhyper(j_all,a,b,jpk) # number of cells\n",
    "        # row=j_all+1\n",
    "        # column=jpk-j_all+1\n",
    "        # element=(column-1)*(w_max+1)+(row)\n",
    "        nt_div[(jpk-j_all)*(w_max+1)+j_all+1]=nt_div[(jpk-j_all)*(w_max+1)+j_all+1]+new_all # cell 1\n",
    "        # row=a-j_all+1\n",
    "        # column=b-(jpk-j_all)+1\n",
    "        # element=(column-1)*(w_max+1)+(row)\n",
    "        nt_div[(b-jpk+j_all)*(w_max+1)+a-j_all+1]=nt_div[(b-jpk+j_all)*(w_max+1)+a-j_all+1]+new_all # cell 1\n",
    "      }\n",
    "    }\n",
    "  }\n",
    "  return (nt_div)\n",
    "}\n"
   ]
  },
  {
   "cell_type": "code",
   "execution_count": 13,
   "metadata": {
    "collapsed": true
   },
   "outputs": [],
   "source": [
    "%%R \n",
    "#u=0.01 # wt -> mutant rate\n",
    "#r=2 # wt plasmid growth rate\n",
    "#R=3 # mutant plasmid growth rate \n",
    "\n",
    "plasmid_replication_mutation_old <- function(nt_div,u,r,R){\n",
    "    nt_growth=matrix(0,nrow=w_max+1,ncol=m_max+1)\n",
    "    rownames(nt_growth)=paste0('w',0:w_max)\n",
    "    colnames(nt_growth)=paste0('m',0:m_max)\n",
    "    \n",
    "    for(a in 0:w_max){ # loop over the entire population\n",
    "      for(b in 0:m_max){ \n",
    "        a_plus1=floor(a*r)\n",
    "        b_plus1=floor(b*R)\n",
    "        \n",
    "        new_wt=a_plus1-a\n",
    "        w_to_m=0:new_wt\n",
    "          \n",
    "        a_plus2=a_plus1-w_to_m\n",
    "        b_plus2=b_plus1+w_to_m\n",
    "    \n",
    "        a_plus2=ifelse (a_plus2<=w_max,a_plus2,w_max)\n",
    "        b_plus2=ifelse (b_plus2<=m_max,b_plus2,-5) # if too many mutant plasmids, the cell dies\n",
    "                                                   # mutant coord = a random negative number -5\n",
    "        for (i in 0:new_wt) {\n",
    "          if(b_plus2[i+1]>=0)\n",
    "            nt_growth[a_plus2[i+1]+1,b_plus2[i+1]+1]=\n",
    "                nt_growth[a_plus2[i+1]+1,b_plus2[i+1]+1] +\n",
    "                nt_div[a+1,b+1]*dbinom(i,new_wt,u)\n",
    "        }\n",
    "      }       \n",
    "    }\n",
    "    return (nt_growth)   \n",
    "}\n",
    "\n",
    "plasmid_replication_mutation <- function(nt_div,u,r,R){\n",
    "  nt_growth=nt_div*0\n",
    "  \n",
    "  for(a in 0:w_max){ # loop over the entire population\n",
    "    a_plus1=floor(a*r)\n",
    "    new_wt=a_plus1-a\n",
    "    w_to_m=0:new_wt\n",
    "    a_plus2=a_plus1-w_to_m\n",
    "    a_plus2=ifelse(a_plus2<=w_max,a_plus2,w_max) ##### this is not in the model\n",
    "    \n",
    "    p_w_to_m=dbinom(w_to_m,new_wt,u)\n",
    "    \n",
    "    for(b in 0:m_max){ \n",
    "      b_plus1=floor(b*R)\n",
    "      b_plus2=b_plus1+w_to_m\n",
    "      b_plus2=ifelse(b_plus2<=m_max,b_plus2,-5) # if too many mutant plasmids, the cell dies\n",
    "      \n",
    "      new=nt_div[a+1,b+1]*p_w_to_m\n",
    "      for (i in w_to_m+1){\n",
    "        if(b_plus2[i]>=0)\n",
    "          nt_growth[a_plus2[i]+1,b_plus2[i]+1]=nt_growth[a_plus2[i]+1,b_plus2[i]+1]+new[i]\n",
    "      }\n",
    "      \n",
    "    }       \n",
    "  }\n",
    "  return (nt_growth)   \n",
    "}\n"
   ]
  },
  {
   "cell_type": "code",
   "execution_count": 14,
   "metadata": {
    "collapsed": true
   },
   "outputs": [],
   "source": [
    "%%R \n",
    "#S=0.8\n",
    "#m_optimal=12 # NOTE: need m_optimal<=m_max (since m_max+1=m_lethal)\n",
    "\n",
    "cell_selection_old <-function(nt_growth, S, m_optimal){\n",
    "    nt_selection=matrix(0,nrow=w_max+1,ncol=m_max+1)\n",
    "    rownames(nt_selection)=paste0('w',0:w_max)\n",
    "    colnames(nt_selection)=paste0('m',0:m_max)\n",
    "    \n",
    "    for(a in 0:w_max){ # loop over the entire population\n",
    "      for(b in 0:m_max){\n",
    "          if (b==0){\n",
    "              nt_selection[a+1,b+1]=nt_growth[a+1,b+1]*S\n",
    "          } else if (0<b & b<=m_optimal){\n",
    "              nt_selection[a+1,b+1]=nt_growth[a+1,b+1]*(S+(1-S)*b/m_optimal)\n",
    "          } else if (m_optimal<b){\n",
    "              nt_selection[a+1,b+1]=nt_growth[a+1,b+1]*((m_max-b)/(m_max-m_optimal))\n",
    "          } \n",
    "          if (b+a==0){\n",
    "              nt_selection[a+1,b+1] = 0\n",
    "          }\n",
    "      }\n",
    "    }\n",
    "    return (nt_selection)\n",
    "}\n",
    "\n",
    "cell_selection <-function(nt_growth, S, m_optimal){\n",
    "  nt_selection=nt_growth*0\n",
    "  \n",
    "  nt_selection[,1]=nt_growth[,1]*S # b=0\n",
    "  nt_selection[1,1]=0 # a+b=0\n",
    "  nt_selection[,1:m_optimal+1]=t(t(nt_growth[,1:m_optimal+1])*(S+(1-S)*(1:m_optimal)/m_optimal))\n",
    "  if(m_optimal<m_max)\n",
    "    nt_selection[,(m_optimal+1):m_max+1]=t(t(nt_growth[,(m_optimal+1):m_max+1])*((m_max-(m_optimal+1):m_max)/(m_max-m_optimal)))\n",
    "  \n",
    "  return (nt_selection)\n",
    "}\n"
   ]
  },
  {
   "cell_type": "code",
   "execution_count": 15,
   "metadata": {
    "collapsed": true
   },
   "outputs": [],
   "source": [
    "%%R \n",
    "fcell_2_fplasmid_old <- function(nt_selection){\n",
    "    wt_plasmid=0\n",
    "    mutant_plasmid=0\n",
    "    \n",
    "    for(a in 0:w_max){ # loop over the entire population\n",
    "      for(b in 0:m_max){\n",
    "        wt_plasmid=wt_plasmid+nt_selection[a+1,b+1]*a\n",
    "        mutant_plasmid=mutant_plasmid+nt_selection[a+1,b+1]*b\n",
    "      }\n",
    "    }\n",
    "    \n",
    "    return (wt_plasmid/(wt_plasmid+mutant_plasmid))    \n",
    "}\n",
    "\n",
    "fcell_2_fplasmid <- function(nt_selection){\n",
    "  \n",
    "  wt_plasmid=sum(nt_selection*(0:w_max))\n",
    "  mutant_plasmid=sum(t(nt_selection)*(0:m_max))\n",
    "  \n",
    "  return (wt_plasmid/(wt_plasmid+mutant_plasmid))    \n",
    "}"
   ]
  },
  {
   "cell_type": "code",
   "execution_count": 16,
   "metadata": {
    "collapsed": true
   },
   "outputs": [],
   "source": [
    "%%R \n",
    "generation=318\n",
    "mutant_plasmid_freq=rep(-1,generation)\n",
    "nt=nt_init\n",
    "\n",
    "emperical_data=read.delim(\"F3_data1.tab\", header=TRUE)\n",
    "emperical_generations=emperical_data$generations\n",
    "\n",
    "loss_old<-function(theta){\n",
    "  u=theta[1]\n",
    "  r=theta[2]\n",
    "  R=theta[3]\n",
    "  S=theta[4]\n",
    "  m_optimal=round(theta[5]) # m_optimal needs to be integer!\n",
    "  \n",
    "  if(u<0 | u>1 | r<1 | R<1 | S<0 | S>1 | m_optimal<=0 | m_optimal>m_max) {\n",
    "    return (100000000)\n",
    "  }\n",
    "  \n",
    "  for (i in 1:generation){\n",
    "    nt_div=cell_division_old(nt)\n",
    "    nt_growth=plasmid_replication_mutation_old(nt_div,u,r,R)\n",
    "    nt_selection=cell_selection_old(nt_growth, S, m_optimal)\n",
    "    mutant_plasmid_freq[i]=fcell_2_fplasmid_old(nt_selection)\n",
    "    nt=nt_selection\n",
    "  } \n",
    "  \n",
    "  diff=mutant_plasmid_freq[emperical_generations]-emperical_data$frequency\n",
    "  return (sum(diff^2))\n",
    "  \n",
    "} \n",
    "\n",
    "loss<-function(theta){\n",
    "    u=theta[1]\n",
    "    r=theta[2]\n",
    "    R=theta[3]\n",
    "    S=theta[4]\n",
    "    m_optimal=round(theta[5]) # m_optimal needs to be integer!\n",
    "    \n",
    "    if(u<=0 | u>=1 | r<1 | R<1 | S<0 | S>1 | m_optimal<=0 | m_optimal>m_max) {\n",
    "        return(+Inf)\n",
    "    }\n",
    "    \n",
    "    for (i in 1:generation){\n",
    "        nt_div=cell_division(nt)\n",
    "        nt_growth=plasmid_replication_mutation(nt_div,u,r,R)\n",
    "        nt_selection=cell_selection(nt_growth, S, m_optimal)\n",
    "        mutant_plasmid_freq[i]=fcell_2_fplasmid(nt_selection)\n",
    "        nt=nt_selection\n",
    "    } \n",
    "\n",
    "    diff=mutant_plasmid_freq[emperical_generations]-emperical_data$frequency\n",
    "    return (sum(diff^2))\n",
    "    \n",
    "}"
   ]
  },
  {
   "cell_type": "code",
   "execution_count": 17,
   "metadata": {},
   "outputs": [
    {
     "data": {
      "text/plain": [
       "[1] 13.84734\n",
       "[1] 13.84734\n"
      ]
     },
     "metadata": {},
     "output_type": "display_data"
    }
   ],
   "source": [
    "%%R \n",
    "theta0=c(0.01, 1.2, 1.8, 0.8, 3)\n",
    "#res=optim (theta0,loss,control=c(maxit=1e6))\n",
    "print (loss_old(theta0))\n",
    "print (loss(theta0))"
   ]
  },
  {
   "cell_type": "code",
   "execution_count": 18,
   "metadata": {},
   "outputs": [
    {
     "data": {
      "text/plain": [
       "$par\n",
       "[1] 0.3257106 1.4392277 2.2889755 0.3166912 2.7775563\n",
       "\n",
       "$value\n",
       "[1] 0.0009712628\n",
       "\n",
       "$counts\n",
       "function gradient \n",
       "      36       NA \n",
       "\n",
       "$convergence\n",
       "[1] 0\n",
       "\n",
       "$message\n",
       "NULL\n",
       "\n",
       "   user  system elapsed \n",
       " 64.121   0.509  68.095 \n"
      ]
     },
     "metadata": {},
     "output_type": "display_data"
    }
   ],
   "source": [
    "%%R \n",
    "# old code\n",
    "ptm=proc.time()\n",
    "res_old=optim(theta0,loss_old,control=c(maxit=1e6))\n",
    "print(res_old)\n",
    "proc.time()-ptm"
   ]
  },
  {
   "cell_type": "code",
   "execution_count": 19,
   "metadata": {},
   "outputs": [
    {
     "data": {
      "text/plain": [
       "$par\n",
       "[1] 0.3257106 1.4392277 2.2889755 0.3166912 2.7775563\n",
       "\n",
       "$value\n",
       "[1] 0.0009712628\n",
       "\n",
       "$counts\n",
       "function gradient \n",
       "      36       NA \n",
       "\n",
       "$convergence\n",
       "[1] 0\n",
       "\n",
       "$message\n",
       "NULL\n",
       "\n",
       "   user  system elapsed \n",
       " 33.805   0.279  35.103 \n",
       "[1] TRUE\n"
      ]
     },
     "metadata": {},
     "output_type": "display_data"
    }
   ],
   "source": [
    "%%R\n",
    "# new code\n",
    "ptm=proc.time()\n",
    "res=optim(theta0,loss,control=c(maxit=1e6))\n",
    "print(res)\n",
    "proc.time()-ptm\n",
    "print (proc.time()-ptm)\n",
    "\n",
    "identical(res_old,res)"
   ]
  },
  {
   "cell_type": "code",
   "execution_count": null,
   "metadata": {
    "collapsed": true
   },
   "outputs": [],
   "source": [
    "\n"
   ]
  }
 ],
 "metadata": {
  "kernelspec": {
   "display_name": "Python 2",
   "language": "python",
   "name": "python2"
  },
  "language_info": {
   "codemirror_mode": {
    "name": "ipython",
    "version": 2
   },
   "file_extension": ".py",
   "mimetype": "text/x-python",
   "name": "python",
   "nbconvert_exporter": "python",
   "pygments_lexer": "ipython2",
   "version": "2.7.14"
  }
 },
 "nbformat": 4,
 "nbformat_minor": 2
}
