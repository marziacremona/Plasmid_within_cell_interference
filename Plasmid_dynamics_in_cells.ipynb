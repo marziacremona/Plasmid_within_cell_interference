{
 "cells": [
  {
   "cell_type": "code",
   "execution_count": 1,
   "metadata": {},
   "outputs": [],
   "source": [
    "%load_ext rpy2.ipython "
   ]
  },
  {
   "cell_type": "code",
   "execution_count": 2,
   "metadata": {
    "collapsed": true
   },
   "outputs": [],
   "source": [
    "%%R \n",
    "w_max=5 # max wild-type plasmids\n",
    "m_max=10 # max mutant plasmids\n",
    "\n",
    "nt_init=matrix(0,nrow=w_max+1,ncol=m_max+1)\n",
    "w_init=5\n",
    "m_init=0\n",
    "nt_init[w_init+1,m_init+1]=3.12e9\n",
    "rownames(nt_init)=paste0('w',0:w_max)\n",
    "colnames(nt_init)=paste0('m',0:m_max)"
   ]
  },
  {
   "cell_type": "code",
   "execution_count": 3,
   "metadata": {
    "collapsed": true
   },
   "outputs": [],
   "source": [
    "%%R \n",
    "cell_division_old <- function(nt){\n",
    "  nt_div=matrix(0,nrow=w_max+1,ncol=m_max+1)\n",
    "  rownames(nt_div)=paste0('w',0:w_max)\n",
    "  colnames(nt_div)=paste0('m',0:m_max)\n",
    "  for(a in 0:w_max){ # loop over the entire population\n",
    "    for(b in 0:m_max){ \n",
    "      if((a+b)>=1){ # require a+b>0\n",
    "        \n",
    "        for(jpk in 0:(a+b)){ # loop over the total number of plasmids in first cell\n",
    "          p_jpk=dbinom(jpk,a+b,0.5) # binomial distribution\n",
    "          \n",
    "          for(j in max(0,jpk-b):min(a,jpk)){\n",
    "            new=p_jpk*dhyper(j,a,b,jpk)*nt[a+1,b+1]\n",
    "            nt_div[j+1,jpk-j+1]=nt_div[j+1,jpk-j+1]+new # cell 1\n",
    "            nt_div[a-j+1,b-(jpk-j)+1]=nt_div[a-j+1,b-(jpk-j)+1]+new # cell 2\n",
    "          }\n",
    "        }\n",
    "      }\n",
    "    }\n",
    "  }\n",
    "  return (nt_div)\n",
    "}\n",
    "\n",
    "cell_division <- function(nt){\n",
    "  nt_div=nt*0\n",
    "  for(a in 0:w_max){ # loop over the entire population\n",
    "    for(b in 0:m_max){ \n",
    "      \n",
    "      p_nt=dbinom(0:(a+b),a+b,0.5)*nt[a+1,b+1] # binomial distribution * number of cells\n",
    "      for(jpk in 0:(a+b)){ # loop over the total number of plasmids in first cell\n",
    "        j_all=max(0,jpk-b):min(a,jpk) # number of wild-type plasmids in first cell\n",
    "        new_all=p_nt[jpk+1]*dhyper(j_all,a,b,jpk) # number of cells\n",
    "        # row=j_all+1\n",
    "        # column=jpk-j_all+1\n",
    "        # element=(column-1)*(w_max+1)+(row)\n",
    "        nt_div[(jpk-j_all)*(w_max+1)+j_all+1]=nt_div[(jpk-j_all)*(w_max+1)+j_all+1]+new_all # cell 1\n",
    "        # row=a-j_all+1\n",
    "        # column=b-(jpk-j_all)+1\n",
    "        # element=(column-1)*(w_max+1)+(row)\n",
    "        nt_div[(b-jpk+j_all)*(w_max+1)+a-j_all+1]=nt_div[(b-jpk+j_all)*(w_max+1)+a-j_all+1]+new_all # cell 1\n",
    "      }\n",
    "    }\n",
    "  }\n",
    "  return (nt_div)\n",
    "}\n"
   ]
  },
  {
   "cell_type": "code",
   "execution_count": 4,
   "metadata": {
    "collapsed": true
   },
   "outputs": [],
   "source": [
    "%%R \n",
    "#u=0.01 # wt -> mutant rate\n",
    "#r=2 # wt plasmid growth rate\n",
    "#R=3 # mutant plasmid growth rate \n",
    "\n",
    "plasmid_replication_mutation_old <- function(nt_div,u,r,R){\n",
    "    nt_growth=matrix(0,nrow=w_max+1,ncol=m_max+1)\n",
    "    rownames(nt_growth)=paste0('w',0:w_max)\n",
    "    colnames(nt_growth)=paste0('m',0:m_max)\n",
    "    \n",
    "    for(a in 0:w_max){ # loop over the entire population\n",
    "      for(b in 0:m_max){ \n",
    "        a_plus1=floor(a*r)\n",
    "        b_plus1=floor(b*R)\n",
    "        \n",
    "        new_wt=a_plus1-a\n",
    "        w_to_m=0:new_wt\n",
    "          \n",
    "        a_plus2=a_plus1-w_to_m\n",
    "        b_plus2=b_plus1+w_to_m\n",
    "    \n",
    "        a_plus2=ifelse (a_plus2<=w_max,a_plus2,w_max)\n",
    "\n",
    "        for (i in 0:new_wt) {\n",
    "          if(b_plus2[i+1]<=m_max)\n",
    "              nt_growth[a_plus2[i+1]+1,b_plus2[i+1]+1]=\n",
    "                  nt_growth[a_plus2[i+1]+1,b_plus2[i+1]+1] +\n",
    "                  nt_div[a+1,b+1]*dbinom(i,new_wt,u)\n",
    "        }\n",
    "      }       \n",
    "    }\n",
    "    return (nt_growth)   \n",
    "}\n",
    "\n",
    "plasmid_replication_mutation <- function(nt_div,u,r,R){\n",
    "  nt_growth=nt_div*0\n",
    "  \n",
    "  for(a in 0:w_max){ # loop over the entire population\n",
    "    a_plus1=floor(a*r)\n",
    "    new_wt=a_plus1-a\n",
    "    w_to_m=0:new_wt\n",
    "    a_plus2=a_plus1-w_to_m\n",
    "    a_plus2=ifelse(a_plus2<=w_max,a_plus2,w_max) ##### this is not in the model\n",
    "    \n",
    "    p_w_to_m=dbinom(w_to_m,new_wt,u)\n",
    "    \n",
    "    for(b in 0:m_max){ \n",
    "      b_plus1=floor(b*R)\n",
    "      b_plus2=b_plus1+w_to_m\n",
    "      \n",
    "      new=nt_div[a+1,b+1]*p_w_to_m\n",
    "      for (i in w_to_m[b_plus2<=m_max]+1){\n",
    "          nt_growth[a_plus2[i]+1,b_plus2[i]+1]=nt_growth[a_plus2[i]+1,b_plus2[i]+1]+new[i]\n",
    "      }\n",
    "      \n",
    "    }       \n",
    "  }\n",
    "  return (nt_growth)   \n",
    "}"
   ]
  },
  {
   "cell_type": "code",
   "execution_count": 5,
   "metadata": {
    "collapsed": true
   },
   "outputs": [],
   "source": [
    "%%R \n",
    "#S=0.8\n",
    "#m_optimal=12 # NOTE: need m_optimal<m_max \n",
    "#m_lethal=15 # NOTE: need m_optimal<m_lethal<=m_max\n",
    "\n",
    "cell_selection_old <-function(nt_growth, S, m_optimal, m_lethal){\n",
    "    nt_selection=matrix(0,nrow=w_max+1,ncol=m_max+1)\n",
    "    rownames(nt_selection)=paste0('w',0:w_max)\n",
    "    colnames(nt_selection)=paste0('m',0:m_max)\n",
    "    \n",
    "    for(a in 0:w_max){ # loop over the entire population\n",
    "      for(b in 0:m_max){\n",
    "          if (b==0){\n",
    "              nt_selection[a+1,b+1]=nt_growth[a+1,b+1]*S\n",
    "          } else if (b<=m_optimal){\n",
    "              nt_selection[a+1,b+1]=nt_growth[a+1,b+1]*(S+(1-S)*b/m_optimal)\n",
    "          } else if (b<=m_lethal){\n",
    "              nt_selection[a+1,b+1]=nt_growth[a+1,b+1]*((m_lethal-b)/(m_lethal-m_optimal))\n",
    "          }\n",
    "          if (b+a==0 | b>m_lethal){\n",
    "              nt_selection[a+1,b+1] = 0\n",
    "          }\n",
    "      }\n",
    "    }\n",
    "    return (nt_selection)\n",
    "}\n",
    "\n",
    "cell_selection <-function(nt_growth, S, m_optimal, m_lethal){\n",
    "  nt_selection=nt_growth*0\n",
    "  \n",
    "  nt_selection[,1]=nt_growth[,1]*S # b=0\n",
    "  nt_selection[1,1]=0 # a+b=0\n",
    "  nt_selection[,1:m_optimal+1]=t(t(nt_growth[,1:m_optimal+1])*(S+(1-S)*(1:m_optimal)/m_optimal))\n",
    "  nt_selection[,(m_optimal+1):m_lethal+1]=t(t(nt_growth[,(m_optimal+1):m_lethal+1])*((m_lethal-(m_optimal+1):m_lethal)/(m_lethal-m_optimal)))\n",
    "  if(m_lethal<m_max)\n",
    "    nt_selection[,(m_lethal+1):m_max+1]=0  # b>m_lethal\n",
    "  return (nt_selection)\n",
    "}\n"
   ]
  },
  {
   "cell_type": "code",
   "execution_count": 6,
   "metadata": {
    "collapsed": true
   },
   "outputs": [],
   "source": [
    "%%R \n",
    "fcell_2_fplasmid_old <- function(nt_selection){\n",
    "    wt_plasmid=0\n",
    "    mutant_plasmid=0\n",
    "    \n",
    "    for(a in 0:w_max){ # loop over the entire population\n",
    "      for(b in 0:m_max){\n",
    "        wt_plasmid=wt_plasmid+nt_selection[a+1,b+1]*a\n",
    "        mutant_plasmid=mutant_plasmid+nt_selection[a+1,b+1]*b\n",
    "      }\n",
    "    }\n",
    "    \n",
    "    return (mutant_plasmid/(wt_plasmid+mutant_plasmid))    \n",
    "}\n",
    "\n",
    "fcell_2_fplasmid <- function(nt_selection){\n",
    "  \n",
    "  wt_plasmid=sum(nt_selection*(0:w_max))\n",
    "  mutant_plasmid=sum(t(nt_selection)*(0:m_max))\n",
    "  \n",
    "  return (mutant_plasmid/(wt_plasmid+mutant_plasmid))    \n",
    "}"
   ]
  },
  {
   "cell_type": "code",
   "execution_count": 7,
   "metadata": {
    "collapsed": true
   },
   "outputs": [],
   "source": [
    "%%R \n",
    "generation=318\n",
    "mutant_plasmid_freq=rep(-1,generation)\n",
    "nt=nt_init\n",
    "\n",
    "emperical_data=read.delim(\"F3_data1.tab\", header=TRUE)\n",
    "emperical_generations=emperical_data$generations\n",
    "\n",
    "loss_old<-function(theta){\n",
    "  u=theta[1]\n",
    "  r=theta[2]\n",
    "  R=theta[3]\n",
    "  S=theta[4]\n",
    "  m_optimal=round(theta[5]) # m_optimal needs to be integer!\n",
    "  m_lethal=round(theta[6])  # m_lethal needs to be integer!\n",
    "    \n",
    "  if(u<0 | u>1 | r<1 | R<1 | r>=R | S<0 | S>1 | m_optimal<=0 | m_lethal<=m_optimal | m_lethal>m_max) {\n",
    "    return (100000000)\n",
    "  }\n",
    "  \n",
    "  for (i in 1:generation){\n",
    "    nt_div=cell_division_old(nt)\n",
    "    nt_growth=plasmid_replication_mutation_old(nt_div,u,r,R)\n",
    "    nt_selection=cell_selection_old(nt_growth, S, m_optimal, m_lethal)\n",
    "    mutant_plasmid_freq[i]=fcell_2_fplasmid_old(nt_selection)\n",
    "    nt=nt_selection\n",
    "  } \n",
    "  \n",
    "  diff=mutant_plasmid_freq[emperical_generations]-emperical_data$frequency\n",
    "  return (sum(diff^2))\n",
    "  \n",
    "} \n",
    "\n",
    "loss<-function(theta){\n",
    "    u=theta[1]\n",
    "    r=theta[2]\n",
    "    R=theta[3]\n",
    "    S=theta[4]\n",
    "    m_optimal=round(theta[5]) # m_optimal needs to be integer!\n",
    "    m_lethal=round(theta[6])  # m_lethal needs to be integer!\n",
    "    \n",
    "    if(u<=0 | u>=1 | r<1 | R<1 | r>=R | S<0 | S>1 | m_optimal<=0 | m_lethal<=m_optimal | m_lethal>m_max) {\n",
    "        return(+Inf)\n",
    "    }\n",
    "    \n",
    "    for (i in 1:generation){\n",
    "        nt_div=cell_division(nt)\n",
    "        nt_growth=plasmid_replication_mutation(nt_div,u,r,R)\n",
    "        nt_selection=cell_selection(nt_growth, S, m_optimal, m_lethal)\n",
    "        mutant_plasmid_freq[i]=fcell_2_fplasmid(nt_selection)\n",
    "        nt=nt_selection\n",
    "    } \n",
    "\n",
    "    diff=mutant_plasmid_freq[emperical_generations]-emperical_data$frequency\n",
    "    return (sum(diff^2))\n",
    "    \n",
    "}"
   ]
  },
  {
   "cell_type": "code",
   "execution_count": 8,
   "metadata": {},
   "outputs": [
    {
     "data": {
      "text/plain": [
       "[1] 1.969933\n",
       "[1] 1.969933\n"
      ]
     },
     "metadata": {},
     "output_type": "display_data"
    }
   ],
   "source": [
    "%%R \n",
    "theta0=c(0.00001, 1.2, 1.8, 0.8, 4, 6)\n",
    "print (loss_old(theta0))\n",
    "print (loss(theta0))"
   ]
  },
  {
   "cell_type": "code",
   "execution_count": 9,
   "metadata": {},
   "outputs": [
    {
     "data": {
      "text/plain": [
       "$par\n",
       "[1] 0.002607514 1.522980491 1.928765321 0.842194774 4.014060155 6.015436419\n",
       "\n",
       "$value\n",
       "[1] 0.0005933734\n",
       "\n",
       "$counts\n",
       "function gradient \n",
       "     175       NA \n",
       "\n",
       "$convergence\n",
       "[1] 0\n",
       "\n",
       "$message\n",
       "NULL\n",
       "\n",
       "   user  system elapsed \n",
       "813.875   4.123 835.591 \n"
      ]
     },
     "metadata": {},
     "output_type": "display_data"
    }
   ],
   "source": [
    "%%R \n",
    "# old code\n",
    "ptm=proc.time()\n",
    "res_old=optim(theta0,loss_old,control=c(maxit=1e6))\n",
    "print(res_old)\n",
    "proc.time()-ptm"
   ]
  },
  {
   "cell_type": "code",
   "execution_count": 10,
   "metadata": {},
   "outputs": [
    {
     "data": {
      "text/plain": [
       "$par\n",
       "[1] 0.002607514 1.522980491 1.928765321 0.842194774 4.014060155 6.015436419\n",
       "\n",
       "$value\n",
       "[1] 0.0005933734\n",
       "\n",
       "$counts\n",
       "function gradient \n",
       "     175       NA \n",
       "\n",
       "$convergence\n",
       "[1] 0\n",
       "\n",
       "$message\n",
       "NULL\n",
       "\n",
       "   user  system elapsed \n",
       "363.167   1.315 366.651 \n",
       "[1] FALSE\n"
      ]
     },
     "metadata": {},
     "output_type": "display_data"
    }
   ],
   "source": [
    "%%R\n",
    "# new code\n",
    "ptm=proc.time()\n",
    "res=optim(theta0,loss,control=c(maxit=1e6))\n",
    "print(res)\n",
    "print(proc.time()-ptm)\n",
    "\n",
    "identical(res_old,res)"
   ]
  },
  {
   "cell_type": "markdown",
   "metadata": {},
   "source": [
    "Plot the trajectory using the optimized parameters. "
   ]
  },
  {
   "cell_type": "code",
   "execution_count": 12,
   "metadata": {
    "scrolled": false
   },
   "outputs": [
    {
     "data": {
      "image/png": "[encoded data removed]"
     },
     "metadata": {},
     "output_type": "display_data"
    }
   ],
   "source": [
    "%%R \n",
    "theta_optimized=res$par\n",
    "#theta_optimized=c(0.00001,1.60000,1.65000,0.20000,6.00000,8.00000)\n",
    "mutant_plasmid_freq=rep(-1,generation)\n",
    "trajectory = function (theta){\n",
    "    u=theta[1]\n",
    "    r=theta[2]\n",
    "    R=theta[3]\n",
    "    S=theta[4]\n",
    "    m_optimal=round(theta[5]) # m_optimal needs to be integer!\n",
    "    m_lethal=round(theta[6])  # m_lethal needs to be integer!\n",
    "        \n",
    "    for (i in 1:generation){\n",
    "        nt_div=cell_division(nt)\n",
    "        nt_growth=plasmid_replication_mutation(nt_div,u,r,R)\n",
    "        nt_selection=cell_selection(nt_growth, S, m_optimal, m_lethal)\n",
    "        mutant_plasmid_freq[i]=fcell_2_fplasmid(nt_selection)\n",
    "        nt=nt_selection     \n",
    "    } \n",
    "    plot (1:generation,mutant_plasmid_freq,type='l')\n",
    "    #print (mutant_plasmid_freq)\n",
    "}\n",
    "\n",
    "trajectory(theta_optimized)"
   ]
  },
  {
   "cell_type": "code",
   "execution_count": null,
   "metadata": {
    "collapsed": true
   },
   "outputs": [],
   "source": []
  }
 ],
 "metadata": {
  "kernelspec": {
   "display_name": "Python 2",
   "language": "python",
   "name": "python2"
  },
  "language_info": {
   "codemirror_mode": {
    "name": "ipython",
    "version": 2
   },
   "file_extension": ".py",
   "mimetype": "text/x-python",
   "name": "python",
   "nbconvert_exporter": "python",
   "pygments_lexer": "ipython2",
   "version": "2.7.14"
  }
 },
 "nbformat": 4,
 "nbformat_minor": 2
}
